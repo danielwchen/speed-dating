{
 "cells": [
  {
   "cell_type": "code",
   "execution_count": 66,
   "metadata": {
    "collapsed": false
   },
   "outputs": [],
   "source": [
    "# This Python 3 environment comes with many helpful analytics libraries installed\n",
    "# It is defined by the kaggle/python docker image: https://github.com/kaggle/docker-python\n",
    "# For example, here's several helpful packages to load in \n",
    "\n",
    "import numpy as np # linear algebra\n",
    "import pandas as pd # data processing, CSV file I/O (e.g. pd.read_csv)\n",
    "from sklearn.model_selection import train_test_split as split\n",
    "from sklearn.linear_model import LinearRegression as LR\n",
    "from sklearn.discriminant_analysis import LinearDiscriminantAnalysis as LDA\n",
    "from sklearn.discriminant_analysis import QuadraticDiscriminantAnalysis as QDA"
   ]
  },
  {
   "cell_type": "code",
   "execution_count": 2,
   "metadata": {
    "collapsed": false
   },
   "outputs": [],
   "source": [
    "df = pd.read_csv(\"Speed Dating Data Pruned.csv\")"
   ]
  },
  {
   "cell_type": "code",
   "execution_count": 3,
   "metadata": {
    "collapsed": false
   },
   "outputs": [
    {
     "data": {
      "text/plain": [
       "array(['iid', 'gender', 'wave', 'pid', 'match', 'attr1_1', 'sinc1_1',\n",
       "       'intel1_1', 'fun1_1', 'amb1_1', 'shar1_1', 'attr4_1', 'sinc4_1',\n",
       "       'intel4_1', 'fun4_1', 'amb4_1', 'shar4_1', 'attr2_1', 'sinc2_1',\n",
       "       'intel2_1', 'fun2_1', 'amb2_1', 'shar2_1', 'dec', 'attr', 'sinc',\n",
       "       'intel', 'fun', 'amb', 'shar', 'like'], dtype=object)"
      ]
     },
     "execution_count": 3,
     "metadata": {},
     "output_type": "execute_result"
    }
   ],
   "source": [
    "df.columns = ['iid', 'gender', 'wave', 'pid', 'match', 'attr1_1',\n",
    "       'sinc1_1', 'intel1_1', 'fun1_1', 'amb1_1', 'shar1_1', 'attr4_1',\n",
    "       'sinc4_1', 'intel4_1', 'fun4_1', 'amb4_1', 'shar4_1', 'attr2_1',\n",
    "       'sinc2_1', 'intel2_1', 'fun2_1', 'amb2_1', 'shar2_1', 'dec', 'attr',\n",
    "       'sinc', 'intel', 'fun', 'amb', 'shar', 'like']\n",
    "df.columns.values"
   ]
  },
  {
   "cell_type": "markdown",
   "metadata": {},
   "source": [
    "# What People Think They Want"
   ]
  },
  {
   "cell_type": "code",
   "execution_count": 4,
   "metadata": {
    "collapsed": false
   },
   "outputs": [],
   "source": [
    "what_you_look_for = df[['iid','gender','attr1_1','sinc1_1','intel1_1','fun1_1','amb1_1','shar1_1']]"
   ]
  },
  {
   "cell_type": "code",
   "execution_count": 5,
   "metadata": {
    "collapsed": false
   },
   "outputs": [],
   "source": [
    "what_you_look_for_drop_dup = what_you_look_for.drop_duplicates(subset='iid')"
   ]
  },
  {
   "cell_type": "code",
   "execution_count": 6,
   "metadata": {
    "collapsed": false
   },
   "outputs": [
    {
     "data": {
      "text/plain": [
       "iid         268.769517\n",
       "gender        0.000000\n",
       "attr1_1      18.020372\n",
       "sinc1_1      18.222230\n",
       "intel1_1     20.971004\n",
       "fun1_1       17.299108\n",
       "amb1_1       12.818476\n",
       "shar1_1      12.650632\n",
       "dtype: float64"
      ]
     },
     "execution_count": 6,
     "metadata": {},
     "output_type": "execute_result"
    }
   ],
   "source": [
    "what_you_look_for_drop_dup[what_you_look_for_drop_dup['gender']==0].mean()"
   ]
  },
  {
   "cell_type": "code",
   "execution_count": 7,
   "metadata": {
    "collapsed": false
   },
   "outputs": [
    {
     "data": {
      "text/plain": [
       "iid         286.927273\n",
       "gender        1.000000\n",
       "attr1_1      27.248800\n",
       "sinc1_1      16.379600\n",
       "intel1_1     19.387418\n",
       "fun1_1       17.536836\n",
       "amb1_1        8.759782\n",
       "shar1_1      10.902400\n",
       "dtype: float64"
      ]
     },
     "execution_count": 7,
     "metadata": {},
     "output_type": "execute_result"
    }
   ],
   "source": [
    "what_you_look_for_drop_dup[what_you_look_for_drop_dup['gender']==1].mean()"
   ]
  },
  {
   "cell_type": "markdown",
   "metadata": {},
   "source": [
    "# What People Think Opposite Sex Wants"
   ]
  },
  {
   "cell_type": "code",
   "execution_count": 8,
   "metadata": {
    "collapsed": false
   },
   "outputs": [],
   "source": [
    "what_opp_sex_look_for = df[['iid','gender','attr2_1','sinc2_1','intel2_1','fun2_1','amb2_1','shar2_1']]"
   ]
  },
  {
   "cell_type": "code",
   "execution_count": 9,
   "metadata": {
    "collapsed": false
   },
   "outputs": [],
   "source": [
    "what_opp_sex_look_for_drop_dup = what_opp_sex_look_for.drop_duplicates(subset='iid')"
   ]
  },
  {
   "cell_type": "code",
   "execution_count": 10,
   "metadata": {
    "collapsed": false
   },
   "outputs": [
    {
     "data": {
      "text/plain": [
       "iid         268.769517\n",
       "gender        0.000000\n",
       "attr2_1      35.600632\n",
       "sinc2_1      11.284535\n",
       "intel2_1     12.478439\n",
       "fun2_1       19.051636\n",
       "amb2_1        9.114387\n",
       "shar2_1      12.626766\n",
       "dtype: float64"
      ]
     },
     "execution_count": 10,
     "metadata": {},
     "output_type": "execute_result"
    }
   ],
   "source": [
    "what_opp_sex_look_for_drop_dup[what_opp_sex_look_for_drop_dup['gender']==0].mean()"
   ]
  },
  {
   "cell_type": "code",
   "execution_count": 11,
   "metadata": {
    "collapsed": false
   },
   "outputs": [
    {
     "data": {
      "text/plain": [
       "iid         286.927273\n",
       "gender        1.000000\n",
       "attr2_1      25.012218\n",
       "sinc2_1      15.126255\n",
       "intel2_1     16.331164\n",
       "fun2_1       18.015164\n",
       "amb2_1       14.305273\n",
       "shar2_1      11.123745\n",
       "dtype: float64"
      ]
     },
     "execution_count": 11,
     "metadata": {},
     "output_type": "execute_result"
    }
   ],
   "source": [
    "what_opp_sex_look_for_drop_dup[what_opp_sex_look_for_drop_dup['gender']==1].mean()"
   ]
  },
  {
   "cell_type": "markdown",
   "metadata": {},
   "source": [
    "# What People Think Their Own Sex Wants"
   ]
  },
  {
   "cell_type": "code",
   "execution_count": 12,
   "metadata": {
    "collapsed": false
   },
   "outputs": [],
   "source": [
    "what_your_sex_look_for = df[df['wave'] > 5][['iid','gender','wave','attr4_1','sinc4_1','intel4_1','fun4_1','amb4_1','shar4_1']]"
   ]
  },
  {
   "cell_type": "code",
   "execution_count": 13,
   "metadata": {
    "collapsed": false
   },
   "outputs": [],
   "source": [
    "what_your_sex_look_for_drop_dup = what_your_sex_look_for.drop_duplicates(subset='iid')"
   ]
  },
  {
   "cell_type": "code",
   "execution_count": 19,
   "metadata": {
    "collapsed": false
   },
   "outputs": [],
   "source": [
    "tmp = what_your_sex_look_for_drop_dup[what_your_sex_look_for_drop_dup['wave'] > 9]"
   ]
  },
  {
   "cell_type": "code",
   "execution_count": 15,
   "metadata": {
    "collapsed": false
   },
   "outputs": [
    {
     "data": {
      "text/plain": [
       "iid         383.750000\n",
       "gender        0.000000\n",
       "wave         15.358974\n",
       "attr4_1      29.506410\n",
       "sinc4_1      12.615385\n",
       "intel4_1     14.846154\n",
       "fun4_1       17.301282\n",
       "amb4_1       13.314103\n",
       "shar4_1      12.397436\n",
       "dtype: float64"
      ]
     },
     "execution_count": 15,
     "metadata": {},
     "output_type": "execute_result"
    }
   ],
   "source": [
    "tmp[tmp['gender']==0].mean()"
   ]
  },
  {
   "cell_type": "code",
   "execution_count": 16,
   "metadata": {
    "collapsed": false
   },
   "outputs": [
    {
     "data": {
      "text/plain": [
       "iid         402.98125\n",
       "gender        1.00000\n",
       "wave         15.48750\n",
       "attr4_1      34.48125\n",
       "sinc4_1      12.07500\n",
       "intel4_1     13.86250\n",
       "fun4_1       18.75625\n",
       "amb4_1        8.41875\n",
       "shar4_1      12.17500\n",
       "dtype: float64"
      ]
     },
     "execution_count": 16,
     "metadata": {},
     "output_type": "execute_result"
    }
   ],
   "source": [
    "tmp[tmp['gender']==1].mean()"
   ]
  },
  {
   "cell_type": "code",
   "execution_count": 17,
   "metadata": {
    "collapsed": false
   },
   "outputs": [
    {
     "name": "stderr",
     "output_type": "stream",
     "text": [
      "/Users/Daniel/anaconda/lib/python2.7/site-packages/pandas/core/indexing.py:288: SettingWithCopyWarning: \n",
      "A value is trying to be set on a copy of a slice from a DataFrame.\n",
      "Try using .loc[row_indexer,col_indexer] = value instead\n",
      "\n",
      "See the caveats in the documentation: http://pandas.pydata.org/pandas-docs/stable/indexing.html#indexing-view-versus-copy\n",
      "  self.obj[key] = _infer_fill_value(value)\n",
      "/Users/Daniel/anaconda/lib/python2.7/site-packages/pandas/core/indexing.py:465: SettingWithCopyWarning: \n",
      "A value is trying to be set on a copy of a slice from a DataFrame.\n",
      "Try using .loc[row_indexer,col_indexer] = value instead\n",
      "\n",
      "See the caveats in the documentation: http://pandas.pydata.org/pandas-docs/stable/indexing.html#indexing-view-versus-copy\n",
      "  self.obj[item] = s\n"
     ]
    }
   ],
   "source": [
    "# rescaling for waves 6-9\n",
    "rescaling = what_your_sex_look_for_drop_dup[what_your_sex_look_for_drop_dup['wave'] < 10]\n",
    "rescaling.loc[:,'total'] = rescaling.loc[:,'attr4_1'] + rescaling.loc[:,'sinc4_1'] + rescaling.loc[:,'intel4_1'] + rescaling.loc[:,'fun4_1'] + rescaling.loc[:,'amb4_1'] + rescaling.loc[:,'shar4_1']\n",
    "rescaling.loc[:,'attr4_1'] = rescaling.loc[:,'attr4_1'] * 100 / rescaling.loc[:,'total']\n",
    "rescaling.loc[:,'sinc4_1'] = rescaling.loc[:,'sinc4_1'] * 100 / rescaling.loc[:,'total']\n",
    "rescaling.loc[:,'intel4_1'] = rescaling.loc[:,'intel4_1'] * 100 / rescaling.loc[:,'total']\n",
    "rescaling.loc[:,'fun4_1'] = rescaling.loc[:,'fun4_1'] * 100 / rescaling.loc[:,'total']\n",
    "rescaling.loc[:,'amb4_1'] = rescaling.loc[:,'amb4_1'] * 100 / rescaling.loc[:,'total']\n",
    "rescaling.loc[:,'shar4_1'] = rescaling.loc[:,'shar4_1'] * 100 / rescaling.loc[:,'total']"
   ]
  },
  {
   "cell_type": "code",
   "execution_count": 18,
   "metadata": {
    "collapsed": false
   },
   "outputs": [
    {
     "data": {
      "text/html": [
       "<div>\n",
       "<table border=\"1\" class=\"dataframe\">\n",
       "  <thead>\n",
       "    <tr style=\"text-align: right;\">\n",
       "      <th></th>\n",
       "      <th>iid</th>\n",
       "      <th>gender</th>\n",
       "      <th>wave</th>\n",
       "      <th>attr4_1</th>\n",
       "      <th>sinc4_1</th>\n",
       "      <th>intel4_1</th>\n",
       "      <th>fun4_1</th>\n",
       "      <th>amb4_1</th>\n",
       "      <th>shar4_1</th>\n",
       "      <th>total</th>\n",
       "    </tr>\n",
       "  </thead>\n",
       "  <tbody>\n",
       "    <tr>\n",
       "      <th>count</th>\n",
       "      <td>101.000000</td>\n",
       "      <td>101.000000</td>\n",
       "      <td>101.000000</td>\n",
       "      <td>101.000000</td>\n",
       "      <td>101.000000</td>\n",
       "      <td>101.000000</td>\n",
       "      <td>101.000000</td>\n",
       "      <td>101.000000</td>\n",
       "      <td>101.000000</td>\n",
       "      <td>101.000000</td>\n",
       "    </tr>\n",
       "    <tr>\n",
       "      <th>mean</th>\n",
       "      <td>182.960396</td>\n",
       "      <td>0.504950</td>\n",
       "      <td>7.900990</td>\n",
       "      <td>20.076633</td>\n",
       "      <td>16.157242</td>\n",
       "      <td>15.598582</td>\n",
       "      <td>18.379475</td>\n",
       "      <td>14.244344</td>\n",
       "      <td>15.543725</td>\n",
       "      <td>43.940594</td>\n",
       "    </tr>\n",
       "    <tr>\n",
       "      <th>std</th>\n",
       "      <td>29.366961</td>\n",
       "      <td>0.502469</td>\n",
       "      <td>1.034456</td>\n",
       "      <td>4.436390</td>\n",
       "      <td>2.963149</td>\n",
       "      <td>2.843735</td>\n",
       "      <td>2.953307</td>\n",
       "      <td>3.986339</td>\n",
       "      <td>3.294190</td>\n",
       "      <td>6.463469</td>\n",
       "    </tr>\n",
       "    <tr>\n",
       "      <th>min</th>\n",
       "      <td>132.000000</td>\n",
       "      <td>0.000000</td>\n",
       "      <td>6.000000</td>\n",
       "      <td>10.204082</td>\n",
       "      <td>7.317073</td>\n",
       "      <td>5.263158</td>\n",
       "      <td>13.888889</td>\n",
       "      <td>2.941176</td>\n",
       "      <td>3.333333</td>\n",
       "      <td>27.000000</td>\n",
       "    </tr>\n",
       "    <tr>\n",
       "      <th>25%</th>\n",
       "      <td>158.000000</td>\n",
       "      <td>0.000000</td>\n",
       "      <td>7.000000</td>\n",
       "      <td>16.666667</td>\n",
       "      <td>14.285714</td>\n",
       "      <td>14.634146</td>\n",
       "      <td>16.666667</td>\n",
       "      <td>12.195122</td>\n",
       "      <td>14.285714</td>\n",
       "      <td>40.000000</td>\n",
       "    </tr>\n",
       "    <tr>\n",
       "      <th>50%</th>\n",
       "      <td>183.000000</td>\n",
       "      <td>1.000000</td>\n",
       "      <td>8.000000</td>\n",
       "      <td>19.565217</td>\n",
       "      <td>16.666667</td>\n",
       "      <td>16.279070</td>\n",
       "      <td>17.777778</td>\n",
       "      <td>15.217391</td>\n",
       "      <td>16.000000</td>\n",
       "      <td>45.000000</td>\n",
       "    </tr>\n",
       "    <tr>\n",
       "      <th>75%</th>\n",
       "      <td>208.000000</td>\n",
       "      <td>1.000000</td>\n",
       "      <td>9.000000</td>\n",
       "      <td>21.951220</td>\n",
       "      <td>18.000000</td>\n",
       "      <td>17.142857</td>\n",
       "      <td>19.565217</td>\n",
       "      <td>16.981132</td>\n",
       "      <td>17.391304</td>\n",
       "      <td>48.000000</td>\n",
       "    </tr>\n",
       "    <tr>\n",
       "      <th>max</th>\n",
       "      <td>233.000000</td>\n",
       "      <td>1.000000</td>\n",
       "      <td>9.000000</td>\n",
       "      <td>37.037037</td>\n",
       "      <td>22.500000</td>\n",
       "      <td>23.529412</td>\n",
       "      <td>33.333333</td>\n",
       "      <td>20.454545</td>\n",
       "      <td>22.222222</td>\n",
       "      <td>60.000000</td>\n",
       "    </tr>\n",
       "  </tbody>\n",
       "</table>\n",
       "</div>"
      ],
      "text/plain": [
       "              iid      gender        wave     attr4_1     sinc4_1    intel4_1  \\\n",
       "count  101.000000  101.000000  101.000000  101.000000  101.000000  101.000000   \n",
       "mean   182.960396    0.504950    7.900990   20.076633   16.157242   15.598582   \n",
       "std     29.366961    0.502469    1.034456    4.436390    2.963149    2.843735   \n",
       "min    132.000000    0.000000    6.000000   10.204082    7.317073    5.263158   \n",
       "25%    158.000000    0.000000    7.000000   16.666667   14.285714   14.634146   \n",
       "50%    183.000000    1.000000    8.000000   19.565217   16.666667   16.279070   \n",
       "75%    208.000000    1.000000    9.000000   21.951220   18.000000   17.142857   \n",
       "max    233.000000    1.000000    9.000000   37.037037   22.500000   23.529412   \n",
       "\n",
       "           fun4_1      amb4_1     shar4_1       total  \n",
       "count  101.000000  101.000000  101.000000  101.000000  \n",
       "mean    18.379475   14.244344   15.543725   43.940594  \n",
       "std      2.953307    3.986339    3.294190    6.463469  \n",
       "min     13.888889    2.941176    3.333333   27.000000  \n",
       "25%     16.666667   12.195122   14.285714   40.000000  \n",
       "50%     17.777778   15.217391   16.000000   45.000000  \n",
       "75%     19.565217   16.981132   17.391304   48.000000  \n",
       "max     33.333333   20.454545   22.222222   60.000000  "
      ]
     },
     "execution_count": 18,
     "metadata": {},
     "output_type": "execute_result"
    }
   ],
   "source": [
    "rescaling.describe()"
   ]
  },
  {
   "cell_type": "code",
   "execution_count": 20,
   "metadata": {
    "collapsed": false
   },
   "outputs": [
    {
     "data": {
      "text/plain": [
       "iid         175.620000\n",
       "gender        0.000000\n",
       "wave          7.920000\n",
       "attr4_1      18.168871\n",
       "sinc4_1      16.533862\n",
       "intel4_1     16.284334\n",
       "fun4_1       17.670293\n",
       "amb4_1       15.889544\n",
       "shar4_1      15.453096\n",
       "total        45.800000\n",
       "dtype: float64"
      ]
     },
     "execution_count": 20,
     "metadata": {},
     "output_type": "execute_result"
    }
   ],
   "source": [
    "rescaling[rescaling['gender']==0].mean()"
   ]
  },
  {
   "cell_type": "code",
   "execution_count": 21,
   "metadata": {
    "collapsed": false
   },
   "outputs": [
    {
     "data": {
      "text/plain": [
       "iid         190.156863\n",
       "gender        1.000000\n",
       "wave          7.882353\n",
       "attr4_1      21.946987\n",
       "sinc4_1      15.788006\n",
       "intel4_1     14.926277\n",
       "fun4_1       19.074751\n",
       "amb4_1       12.631402\n",
       "shar4_1      15.632576\n",
       "total        42.117647\n",
       "dtype: float64"
      ]
     },
     "execution_count": 21,
     "metadata": {},
     "output_type": "execute_result"
    }
   ],
   "source": [
    "rescaling[rescaling['gender']==1].mean()"
   ]
  },
  {
   "cell_type": "markdown",
   "metadata": {
    "collapsed": true
   },
   "source": [
    "# Prediction"
   ]
  },
  {
   "cell_type": "code",
   "execution_count": null,
   "metadata": {
    "collapsed": true
   },
   "outputs": [],
   "source": []
  },
  {
   "cell_type": "code",
   "execution_count": 29,
   "metadata": {
    "collapsed": false
   },
   "outputs": [],
   "source": [
    "dec = pd.read_csv(\"Speed Dating Data Pruned Dec.csv\")[['gender','dec','attr','sinc','intel','fun','amb','shar']]"
   ]
  },
  {
   "cell_type": "code",
   "execution_count": 30,
   "metadata": {
    "collapsed": false
   },
   "outputs": [
    {
     "data": {
      "text/html": [
       "<div>\n",
       "<table border=\"1\" class=\"dataframe\">\n",
       "  <thead>\n",
       "    <tr style=\"text-align: right;\">\n",
       "      <th></th>\n",
       "      <th>gender</th>\n",
       "      <th>dec</th>\n",
       "      <th>attr</th>\n",
       "      <th>sinc</th>\n",
       "      <th>intel</th>\n",
       "      <th>fun</th>\n",
       "      <th>amb</th>\n",
       "      <th>shar</th>\n",
       "    </tr>\n",
       "  </thead>\n",
       "  <tbody>\n",
       "    <tr>\n",
       "      <th>count</th>\n",
       "      <td>6947.000000</td>\n",
       "      <td>6947.000000</td>\n",
       "      <td>6947.000000</td>\n",
       "      <td>6947.000000</td>\n",
       "      <td>6947.000000</td>\n",
       "      <td>6947.000000</td>\n",
       "      <td>6947.000000</td>\n",
       "      <td>6947.000000</td>\n",
       "    </tr>\n",
       "    <tr>\n",
       "      <th>mean</th>\n",
       "      <td>0.512307</td>\n",
       "      <td>0.432417</td>\n",
       "      <td>6.196689</td>\n",
       "      <td>7.165035</td>\n",
       "      <td>7.356917</td>\n",
       "      <td>6.396790</td>\n",
       "      <td>6.760760</td>\n",
       "      <td>5.461854</td>\n",
       "    </tr>\n",
       "    <tr>\n",
       "      <th>std</th>\n",
       "      <td>0.499884</td>\n",
       "      <td>0.495447</td>\n",
       "      <td>1.949208</td>\n",
       "      <td>1.743175</td>\n",
       "      <td>1.558822</td>\n",
       "      <td>1.954382</td>\n",
       "      <td>1.797573</td>\n",
       "      <td>2.144922</td>\n",
       "    </tr>\n",
       "    <tr>\n",
       "      <th>min</th>\n",
       "      <td>0.000000</td>\n",
       "      <td>0.000000</td>\n",
       "      <td>0.000000</td>\n",
       "      <td>0.000000</td>\n",
       "      <td>0.000000</td>\n",
       "      <td>0.000000</td>\n",
       "      <td>0.000000</td>\n",
       "      <td>0.000000</td>\n",
       "    </tr>\n",
       "    <tr>\n",
       "      <th>25%</th>\n",
       "      <td>0.000000</td>\n",
       "      <td>0.000000</td>\n",
       "      <td>5.000000</td>\n",
       "      <td>6.000000</td>\n",
       "      <td>6.000000</td>\n",
       "      <td>5.000000</td>\n",
       "      <td>6.000000</td>\n",
       "      <td>4.000000</td>\n",
       "    </tr>\n",
       "    <tr>\n",
       "      <th>50%</th>\n",
       "      <td>1.000000</td>\n",
       "      <td>0.000000</td>\n",
       "      <td>6.000000</td>\n",
       "      <td>7.000000</td>\n",
       "      <td>7.000000</td>\n",
       "      <td>7.000000</td>\n",
       "      <td>7.000000</td>\n",
       "      <td>6.000000</td>\n",
       "    </tr>\n",
       "    <tr>\n",
       "      <th>75%</th>\n",
       "      <td>1.000000</td>\n",
       "      <td>1.000000</td>\n",
       "      <td>8.000000</td>\n",
       "      <td>8.000000</td>\n",
       "      <td>8.000000</td>\n",
       "      <td>8.000000</td>\n",
       "      <td>8.000000</td>\n",
       "      <td>7.000000</td>\n",
       "    </tr>\n",
       "    <tr>\n",
       "      <th>max</th>\n",
       "      <td>1.000000</td>\n",
       "      <td>1.000000</td>\n",
       "      <td>10.000000</td>\n",
       "      <td>10.000000</td>\n",
       "      <td>10.000000</td>\n",
       "      <td>10.000000</td>\n",
       "      <td>10.000000</td>\n",
       "      <td>10.000000</td>\n",
       "    </tr>\n",
       "  </tbody>\n",
       "</table>\n",
       "</div>"
      ],
      "text/plain": [
       "            gender          dec         attr         sinc        intel  \\\n",
       "count  6947.000000  6947.000000  6947.000000  6947.000000  6947.000000   \n",
       "mean      0.512307     0.432417     6.196689     7.165035     7.356917   \n",
       "std       0.499884     0.495447     1.949208     1.743175     1.558822   \n",
       "min       0.000000     0.000000     0.000000     0.000000     0.000000   \n",
       "25%       0.000000     0.000000     5.000000     6.000000     6.000000   \n",
       "50%       1.000000     0.000000     6.000000     7.000000     7.000000   \n",
       "75%       1.000000     1.000000     8.000000     8.000000     8.000000   \n",
       "max       1.000000     1.000000    10.000000    10.000000    10.000000   \n",
       "\n",
       "               fun          amb         shar  \n",
       "count  6947.000000  6947.000000  6947.000000  \n",
       "mean      6.396790     6.760760     5.461854  \n",
       "std       1.954382     1.797573     2.144922  \n",
       "min       0.000000     0.000000     0.000000  \n",
       "25%       5.000000     6.000000     4.000000  \n",
       "50%       7.000000     7.000000     6.000000  \n",
       "75%       8.000000     8.000000     7.000000  \n",
       "max      10.000000    10.000000    10.000000  "
      ]
     },
     "execution_count": 30,
     "metadata": {},
     "output_type": "execute_result"
    }
   ],
   "source": [
    "dec.describe()"
   ]
  },
  {
   "cell_type": "code",
   "execution_count": 41,
   "metadata": {
    "collapsed": true
   },
   "outputs": [],
   "source": [
    "male_x = dec[dec['gender']==1][['attr','sinc','intel','fun','amb','shar']]\n",
    "male_y = dec[dec['gender']==1][['dec']]"
   ]
  },
  {
   "cell_type": "code",
   "execution_count": 60,
   "metadata": {
    "collapsed": false
   },
   "outputs": [
    {
     "data": {
      "text/plain": [
       "0.77191011235955054"
      ]
     },
     "execution_count": 60,
     "metadata": {},
     "output_type": "execute_result"
    }
   ],
   "source": [
    "m_x_train, m_x_test, m_y_train, m_y_test = split(male_x, male_y)"
   ]
  },
  {
   "cell_type": "code",
   "execution_count": 79,
   "metadata": {
    "collapsed": false
   },
   "outputs": [
    {
     "data": {
      "text/plain": [
       "0.26881015441420475"
      ]
     },
     "execution_count": 79,
     "metadata": {},
     "output_type": "execute_result"
    }
   ],
   "source": [
    "lr = LR()\n",
    "lr.fit(m_x_train['attr'].reshape(-1,1), m_y_train)\n",
    "lr.score(m_x_test['attr'].reshape(-1,1), m_y_test)"
   ]
  },
  {
   "cell_type": "code",
   "execution_count": 80,
   "metadata": {
    "collapsed": false
   },
   "outputs": [
    {
     "data": {
      "text/plain": [
       "0.030153383481706927"
      ]
     },
     "execution_count": 80,
     "metadata": {},
     "output_type": "execute_result"
    }
   ],
   "source": [
    "lr = LR()\n",
    "lr.fit(m_x_train['sinc'].reshape(-1,1), m_y_train)\n",
    "lr.score(m_x_test['sinc'].reshape(-1,1), m_y_test)"
   ]
  },
  {
   "cell_type": "code",
   "execution_count": 81,
   "metadata": {
    "collapsed": false
   },
   "outputs": [
    {
     "data": {
      "text/plain": [
       "0.035714829468413756"
      ]
     },
     "execution_count": 81,
     "metadata": {},
     "output_type": "execute_result"
    }
   ],
   "source": [
    "lr = LR()\n",
    "lr.fit(m_x_train['intel'].reshape(-1,1), m_y_train)\n",
    "lr.score(m_x_test['intel'].reshape(-1,1), m_y_test)"
   ]
  },
  {
   "cell_type": "code",
   "execution_count": 82,
   "metadata": {
    "collapsed": false
   },
   "outputs": [
    {
     "data": {
      "text/plain": [
       "0.17076097036781146"
      ]
     },
     "execution_count": 82,
     "metadata": {},
     "output_type": "execute_result"
    }
   ],
   "source": [
    "lr = LR()\n",
    "lr.fit(m_x_train['fun'].reshape(-1,1), m_y_train)\n",
    "lr.score(m_x_test['fun'].reshape(-1,1), m_y_test)"
   ]
  },
  {
   "cell_type": "code",
   "execution_count": 83,
   "metadata": {
    "collapsed": false
   },
   "outputs": [
    {
     "data": {
      "text/plain": [
       "0.064906620416196881"
      ]
     },
     "execution_count": 83,
     "metadata": {},
     "output_type": "execute_result"
    }
   ],
   "source": [
    "lr = LR()\n",
    "lr.fit(m_x_train['amb'].reshape(-1,1), m_y_train)\n",
    "lr.score(m_x_test['amb'].reshape(-1,1), m_y_test)"
   ]
  },
  {
   "cell_type": "code",
   "execution_count": 84,
   "metadata": {
    "collapsed": false
   },
   "outputs": [
    {
     "data": {
      "text/plain": [
       "0.17322334518583493"
      ]
     },
     "execution_count": 84,
     "metadata": {},
     "output_type": "execute_result"
    }
   ],
   "source": [
    "lr = LR()\n",
    "lr.fit(m_x_train['shar'].reshape(-1,1), m_y_train)\n",
    "lr.score(m_x_test['shar'].reshape(-1,1), m_y_test)"
   ]
  },
  {
   "cell_type": "code",
   "execution_count": 86,
   "metadata": {
    "collapsed": true
   },
   "outputs": [],
   "source": [
    "female_x = dec[dec['gender']==0][['attr','sinc','intel','fun','amb','shar']]\n",
    "female_y = dec[dec['gender']==0][['dec']]"
   ]
  },
  {
   "cell_type": "code",
   "execution_count": 87,
   "metadata": {
    "collapsed": false
   },
   "outputs": [],
   "source": [
    "f_x_train, f_x_test, f_y_train, f_y_test = split(female_x, female_y)"
   ]
  },
  {
   "cell_type": "code",
   "execution_count": 88,
   "metadata": {
    "collapsed": false
   },
   "outputs": [
    {
     "data": {
      "text/plain": [
       "0.19201258103369723"
      ]
     },
     "execution_count": 88,
     "metadata": {},
     "output_type": "execute_result"
    }
   ],
   "source": [
    "lr = LR()\n",
    "lr.fit(f_x_train['attr'].reshape(-1,1), f_y_train)\n",
    "lr.score(f_x_test['attr'].reshape(-1,1), f_y_test)"
   ]
  },
  {
   "cell_type": "code",
   "execution_count": 89,
   "metadata": {
    "collapsed": false
   },
   "outputs": [
    {
     "data": {
      "text/plain": [
       "0.041346002791679097"
      ]
     },
     "execution_count": 89,
     "metadata": {},
     "output_type": "execute_result"
    }
   ],
   "source": [
    "lr = LR()\n",
    "lr.fit(f_x_train['sinc'].reshape(-1,1), f_y_train)\n",
    "lr.score(f_x_test['sinc'].reshape(-1,1), f_y_test)"
   ]
  },
  {
   "cell_type": "code",
   "execution_count": 90,
   "metadata": {
    "collapsed": false
   },
   "outputs": [
    {
     "data": {
      "text/plain": [
       "0.054337631538332043"
      ]
     },
     "execution_count": 90,
     "metadata": {},
     "output_type": "execute_result"
    }
   ],
   "source": [
    "lr = LR()\n",
    "lr.fit(f_x_train['intel'].reshape(-1,1), f_y_train)\n",
    "lr.score(f_x_test['intel'].reshape(-1,1), f_y_test)"
   ]
  },
  {
   "cell_type": "code",
   "execution_count": 91,
   "metadata": {
    "collapsed": false
   },
   "outputs": [
    {
     "data": {
      "text/plain": [
       "0.17244024937193914"
      ]
     },
     "execution_count": 91,
     "metadata": {},
     "output_type": "execute_result"
    }
   ],
   "source": [
    "lr = LR()\n",
    "lr.fit(f_x_train['fun'].reshape(-1,1), f_y_train)\n",
    "lr.score(f_x_test['fun'].reshape(-1,1), f_y_test)"
   ]
  },
  {
   "cell_type": "code",
   "execution_count": 92,
   "metadata": {
    "collapsed": false
   },
   "outputs": [
    {
     "data": {
      "text/plain": [
       "0.037518191241301069"
      ]
     },
     "execution_count": 92,
     "metadata": {},
     "output_type": "execute_result"
    }
   ],
   "source": [
    "lr = LR()\n",
    "lr.fit(f_x_train['amb'].reshape(-1,1), f_y_train)\n",
    "lr.score(f_x_test['amb'].reshape(-1,1), f_y_test)"
   ]
  },
  {
   "cell_type": "code",
   "execution_count": 93,
   "metadata": {
    "collapsed": false
   },
   "outputs": [
    {
     "data": {
      "text/plain": [
       "0.16136602205581652"
      ]
     },
     "execution_count": 93,
     "metadata": {},
     "output_type": "execute_result"
    }
   ],
   "source": [
    "lr = LR()\n",
    "lr.fit(f_x_train['shar'].reshape(-1,1), f_y_train)\n",
    "lr.score(f_x_test['shar'].reshape(-1,1), f_y_test)"
   ]
  },
  {
   "cell_type": "code",
   "execution_count": null,
   "metadata": {
    "collapsed": true
   },
   "outputs": [],
   "source": []
  }
 ],
 "metadata": {
  "anaconda-cloud": {},
  "kernelspec": {
   "display_name": "Python [Root]",
   "language": "python",
   "name": "Python [Root]"
  },
  "language_info": {
   "codemirror_mode": {
    "name": "ipython",
    "version": 2
   },
   "file_extension": ".py",
   "mimetype": "text/x-python",
   "name": "python",
   "nbconvert_exporter": "python",
   "pygments_lexer": "ipython2",
   "version": "2.7.12"
  }
 },
 "nbformat": 4,
 "nbformat_minor": 0
}
